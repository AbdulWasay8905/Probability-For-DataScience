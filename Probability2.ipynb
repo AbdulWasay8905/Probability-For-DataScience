{
 "cells": [
  {
   "cell_type": "code",
   "execution_count": 48,
   "id": "153774ab-dd9f-40ed-9de8-5d9ca6177a69",
   "metadata": {},
   "outputs": [],
   "source": [
    "import pandas as pd\n",
    "import numpy as np\n",
    "import matplotlib.pyplot as plt\n",
    "import seaborn as sns"
   ]
  },
  {
   "cell_type": "markdown",
   "id": "43e3129d-30aa-41b2-b8a1-acb1b315e78d",
   "metadata": {},
   "source": [
    "# Central limit Theorem"
   ]
  },
  {
   "cell_type": "code",
   "execution_count": 50,
   "id": "00b16fd1-1e74-48d0-85ea-a4e82ab282cd",
   "metadata": {},
   "outputs": [],
   "source": [
    "pop_data=[np.random.randint(10,100) for i in range(10000)]"
   ]
  },
  {
   "cell_type": "code",
   "execution_count": 51,
   "id": "e7b204b1-5079-4036-8ccc-e729fc13aec9",
   "metadata": {},
   "outputs": [
    {
     "data": {
      "text/plain": [
       "10000"
      ]
     },
     "execution_count": 51,
     "metadata": {},
     "output_type": "execute_result"
    }
   ],
   "source": [
    "len(pop_data)"
   ]
  },
  {
   "cell_type": "code",
   "execution_count": 52,
   "id": "bbb8d421-76a2-4b8c-acf6-83c94ddf6766",
   "metadata": {},
   "outputs": [
    {
     "data": {
      "text/plain": [
       "54.2753"
      ]
     },
     "execution_count": 52,
     "metadata": {},
     "output_type": "execute_result"
    }
   ],
   "source": [
    "np.mean(pop_data)"
   ]
  },
  {
   "cell_type": "code",
   "execution_count": 53,
   "id": "5632354d-da31-4d3e-be8a-bd1010939fbb",
   "metadata": {},
   "outputs": [
    {
     "data": {
      "text/html": [
       "<div>\n",
       "<style scoped>\n",
       "    .dataframe tbody tr th:only-of-type {\n",
       "        vertical-align: middle;\n",
       "    }\n",
       "\n",
       "    .dataframe tbody tr th {\n",
       "        vertical-align: top;\n",
       "    }\n",
       "\n",
       "    .dataframe thead th {\n",
       "        text-align: right;\n",
       "    }\n",
       "</style>\n",
       "<table border=\"1\" class=\"dataframe\">\n",
       "  <thead>\n",
       "    <tr style=\"text-align: right;\">\n",
       "      <th></th>\n",
       "      <th>pop_data</th>\n",
       "    </tr>\n",
       "  </thead>\n",
       "  <tbody>\n",
       "    <tr>\n",
       "      <th>0</th>\n",
       "      <td>38</td>\n",
       "    </tr>\n",
       "    <tr>\n",
       "      <th>1</th>\n",
       "      <td>99</td>\n",
       "    </tr>\n",
       "    <tr>\n",
       "      <th>2</th>\n",
       "      <td>80</td>\n",
       "    </tr>\n",
       "    <tr>\n",
       "      <th>3</th>\n",
       "      <td>51</td>\n",
       "    </tr>\n",
       "    <tr>\n",
       "      <th>4</th>\n",
       "      <td>29</td>\n",
       "    </tr>\n",
       "    <tr>\n",
       "      <th>...</th>\n",
       "      <td>...</td>\n",
       "    </tr>\n",
       "    <tr>\n",
       "      <th>9995</th>\n",
       "      <td>50</td>\n",
       "    </tr>\n",
       "    <tr>\n",
       "      <th>9996</th>\n",
       "      <td>66</td>\n",
       "    </tr>\n",
       "    <tr>\n",
       "      <th>9997</th>\n",
       "      <td>42</td>\n",
       "    </tr>\n",
       "    <tr>\n",
       "      <th>9998</th>\n",
       "      <td>92</td>\n",
       "    </tr>\n",
       "    <tr>\n",
       "      <th>9999</th>\n",
       "      <td>43</td>\n",
       "    </tr>\n",
       "  </tbody>\n",
       "</table>\n",
       "<p>10000 rows × 1 columns</p>\n",
       "</div>"
      ],
      "text/plain": [
       "      pop_data\n",
       "0           38\n",
       "1           99\n",
       "2           80\n",
       "3           51\n",
       "4           29\n",
       "...        ...\n",
       "9995        50\n",
       "9996        66\n",
       "9997        42\n",
       "9998        92\n",
       "9999        43\n",
       "\n",
       "[10000 rows x 1 columns]"
      ]
     },
     "execution_count": 53,
     "metadata": {},
     "output_type": "execute_result"
    }
   ],
   "source": [
    "pop_table=pd.DataFrame({\"pop_data\": pop_data})\n",
    "pop_table"
   ]
  },
  {
   "cell_type": "code",
   "execution_count": 54,
   "id": "f965e3c0-ecea-4299-a0be-29abdb0c5d81",
   "metadata": {},
   "outputs": [
    {
     "data": {
      "image/png": "[encoded data removed]",
      "text/plain": [
       "<Figure size 600x400 with 1 Axes>"
      ]
     },
     "metadata": {},
     "output_type": "display_data"
    }
   ],
   "source": [
    "plt.figure(figsize=(6,4))\n",
    "sns.kdeplot(data=pop_table,x=pop_data)\n",
    "plt.show()"
   ]
  },
  {
   "cell_type": "code",
   "execution_count": 55,
   "id": "aa6b5756-e500-4e85-9bcc-86711daf5548",
   "metadata": {},
   "outputs": [],
   "source": [
    "sample_mean=[]\n",
    "\n",
    "for no_sample in range(50):\n",
    "    sample_data=[]\n",
    "    for data in range(500):\n",
    "        sample_data.append(np.random.choice(pop_data))\n",
    "    sample_mean.append(np.mean(sample_data))"
   ]
  },
  {
   "cell_type": "code",
   "execution_count": 56,
   "id": "60914032-c24b-4634-a1e7-18d9b555ee10",
   "metadata": {},
   "outputs": [
    {
     "data": {
      "text/plain": [
       "53.94355999999999"
      ]
     },
     "execution_count": 56,
     "metadata": {},
     "output_type": "execute_result"
    }
   ],
   "source": [
    "np.mean(sample_mean)"
   ]
  },
  {
   "cell_type": "code",
   "execution_count": 57,
   "id": "86008085-1799-4921-823c-0e352c0f0bc9",
   "metadata": {},
   "outputs": [],
   "source": [
    "sample_M=pd.DataFrame({\"Sample_Mean\":sample_mean})"
   ]
  },
  {
   "cell_type": "code",
   "execution_count": 58,
   "id": "600bb0d0-ae7a-4272-8867-07b32f25e179",
   "metadata": {},
   "outputs": [
    {
     "data": {
      "image/png": "[encoded data removed]",
      "text/plain": [
       "<Figure size 640x480 with 1 Axes>"
      ]
     },
     "metadata": {},
     "output_type": "display_data"
    }
   ],
   "source": [
    "sns.kdeplot(data=sample_M, x=\"Sample_Mean\")\n",
    "plt.show()"
   ]
  },
  {
   "cell_type": "markdown",
   "id": "ffc7bac9-e9c7-4ebd-a2f1-45be323bec6a",
   "metadata": {},
   "source": [
    "# Hypothesis Testing\n",
    "## Z Test"
   ]
  },
  {
   "cell_type": "markdown",
   "id": "13ac8949-d830-4f33-8467-dd22220c3824",
   "metadata": {},
   "source": [
    "##### Example 1: A teacher claim that the mean score of student in his class is greaterthan\n",
    "##### 82 with a standard of 20.if a sample of 81 student was selected with a meean of 90.\n"
   ]
  },
  {
   "cell_type": "code",
   "execution_count": 61,
   "id": "7071e1cd-5fc5-4658-a811-5ef1977950a9",
   "metadata": {},
   "outputs": [],
   "source": [
    "import scipy.stats as st"
   ]
  },
  {
   "cell_type": "code",
   "execution_count": 62,
   "id": "4f9da94a-6788-4b19-8580-f84f6c4ff4dc",
   "metadata": {},
   "outputs": [],
   "source": [
    "s_x=90\n",
    "p_u=82\n",
    "p_std=20\n",
    "n=81\n",
    "ap=0.05"
   ]
  },
  {
   "cell_type": "code",
   "execution_count": 63,
   "id": "13f6ceab-c786-40f3-a260-0eac2330bd36",
   "metadata": {},
   "outputs": [],
   "source": [
    "Zcal=(s_x-p_u)/(p_std/np.sqrt(81))"
   ]
  },
  {
   "cell_type": "code",
   "execution_count": 64,
   "id": "e0846ad7-0c3d-4993-b89d-99bd74081c3a",
   "metadata": {},
   "outputs": [
    {
     "data": {
      "text/plain": [
       "3.5999999999999996"
      ]
     },
     "execution_count": 64,
     "metadata": {},
     "output_type": "execute_result"
    }
   ],
   "source": [
    "Zcal"
   ]
  },
  {
   "cell_type": "code",
   "execution_count": 65,
   "id": "811833a8-7cb6-47db-b42e-74180dfd6c1c",
   "metadata": {},
   "outputs": [
    {
     "data": {
      "text/plain": [
       "1.6448536269514722"
      ]
     },
     "execution_count": 65,
     "metadata": {},
     "output_type": "execute_result"
    }
   ],
   "source": [
    "z_table=st.norm.ppf(1-ap)\n",
    "z_table"
   ]
  },
  {
   "cell_type": "code",
   "execution_count": 66,
   "id": "46fff348-40ed-429e-b968-50f725b93036",
   "metadata": {},
   "outputs": [
    {
     "name": "stdout",
     "output_type": "stream",
     "text": [
      "Ha is right\n"
     ]
    }
   ],
   "source": [
    "if z_table<Zcal:\n",
    "    print(\"Ha is right\")\n",
    "else :\n",
    "    print(\"Ho is right\")"
   ]
  },
  {
   "cell_type": "markdown",
   "id": "c9a87c00-1dc1-45e3-94a0-cf0a9f08b171",
   "metadata": {},
   "source": [
    "# Example 2 \n",
    "## Z TEST\n",
    "#### Imagine you work for an e-commerce company, and your team is responsible for analyzing customer purchase data. You want to determine whether a new website design has led to a significant increase in the average purchase amount compared to the old design. You have collected data from a random sample of 30 customers who made purchases on the old website design and 30 customers who made purchases on the new website design. You have the sample means, sample standard deviations, and sample sizes for both groups.\n",
    "#### Population standard deviation = 2.5 give data in array form"
   ]
  },
  {
   "cell_type": "code",
   "execution_count": 68,
   "id": "641da6ea-6119-4773-9ee8-52bf29dbb74b",
   "metadata": {},
   "outputs": [],
   "source": [
    "old_design =np.array([\n",
    "    45.2, 42.8, 38.9, 43.5, 41.0, 44.6, 40.5, 42.7, 39.8,\n",
    "    41.4, 44.3, 39.7, 41.2, 40.6 , 43.0,42.2,  41.5, 39.6, 44.0, 43.1, 38.7,\n",
    "    43.9, 42.0, 41.9, 42.8, 43.7, 41.3, 40.9, 42.5, 41.6])"
   ]
  },
  {
   "cell_type": "code",
   "execution_count": 69,
   "id": "bd1b1c73-3a74-437a-a99b-7cf7f38eed77",
   "metadata": {},
   "outputs": [
    {
     "data": {
      "text/plain": [
       "30"
      ]
     },
     "execution_count": 69,
     "metadata": {},
     "output_type": "execute_result"
    }
   ],
   "source": [
    "len(old_design)"
   ]
  },
  {
   "cell_type": "code",
   "execution_count": 70,
   "id": "2b339041-a57b-4e9e-87a9-45af7880ac4b",
   "metadata": {},
   "outputs": [],
   "source": [
    "new_design =np.array([\n",
    "    48.5, 49.1, 50.2, 47.8, 48.7, 49.9, 48.0, 50.5, 49.8,\n",
    "    49.6, 48.2,48.9,49.7 ,50.3 ,49.4, 50.1, 48.6, 48.3, 49.0, 50.0, 48.4, 49.3, 49.5,\n",
    "    48.8, 50.6, 50.4, 48.1, 49.2, 50.7, 50.8\n",
    "])"
   ]
  },
  {
   "cell_type": "code",
   "execution_count": 71,
   "id": "af100089-9a78-47b8-9435-72a3f16f05c3",
   "metadata": {},
   "outputs": [
    {
     "data": {
      "text/plain": [
       "30"
      ]
     },
     "execution_count": 71,
     "metadata": {},
     "output_type": "execute_result"
    }
   ],
   "source": [
    "len(new_design)"
   ]
  },
  {
   "cell_type": "code",
   "execution_count": 72,
   "id": "99da6aef-902f-4915-9ef3-2f6d7c05e033",
   "metadata": {},
   "outputs": [],
   "source": [
    "p_std=2.5\n",
    "n_sp=30\n",
    "ap=0.05"
   ]
  },
  {
   "cell_type": "code",
   "execution_count": 73,
   "id": "3f5626ee-fd6d-4c59-ba0f-baf216d1ce8e",
   "metadata": {},
   "outputs": [],
   "source": [
    "x_old=np.mean(old_design)\n",
    "x_new=np.mean(new_design)"
   ]
  },
  {
   "cell_type": "code",
   "execution_count": 74,
   "id": "768f988a-6b00-422d-830f-b294b17d9216",
   "metadata": {},
   "outputs": [
    {
     "data": {
      "text/plain": [
       "(41.96333333333333, 49.346666666666664)"
      ]
     },
     "execution_count": 74,
     "metadata": {},
     "output_type": "execute_result"
    }
   ],
   "source": [
    "x_old , x_new"
   ]
  },
  {
   "cell_type": "code",
   "execution_count": 75,
   "id": "3e9648b6-87e0-4baa-8332-c898e9de8c1f",
   "metadata": {},
   "outputs": [
    {
     "data": {
      "text/plain": [
       "16.176072864985905"
      ]
     },
     "execution_count": 75,
     "metadata": {},
     "output_type": "execute_result"
    }
   ],
   "source": [
    "Z_cal=(x_new-x_old)/(p_std/np.sqrt(n_sp))\n",
    "Z_cal"
   ]
  },
  {
   "cell_type": "code",
   "execution_count": 76,
   "id": "ec8ad8e3-1a62-4149-8456-3dda58b54771",
   "metadata": {},
   "outputs": [
    {
     "data": {
      "text/plain": [
       "1.6448536269514722"
      ]
     },
     "execution_count": 76,
     "metadata": {},
     "output_type": "execute_result"
    }
   ],
   "source": [
    "Z_table=st.norm.ppf(1-ap)\n",
    "z_table"
   ]
  },
  {
   "cell_type": "code",
   "execution_count": 77,
   "id": "c3b564f2-d07e-4e80-9e20-490e54e48d8f",
   "metadata": {},
   "outputs": [
    {
     "name": "stdout",
     "output_type": "stream",
     "text": [
      "Ha is right\n"
     ]
    }
   ],
   "source": [
    "if Z_table<Zcal:\n",
    "    print(\"Ha is right\")\n",
    "else :\n",
    "    print(\"Ho is right\")"
   ]
  },
  {
   "cell_type": "markdown",
   "id": "96b58e2d-0784-4451-8229-e74dc31bbd6d",
   "metadata": {},
   "source": [
    "# T TEST\n",
    "## Example 1\n",
    "#### A manufacturer claims that the average weight of a bag of potato chips is 150 grams. A random sample of 25 bags is taken, and the average weight is found to be 148 grams with a standard deviation of 5 grams.Using a one-tailed t-test at a 0.05 significance level, test the manufacturer's claim."
   ]
  },
  {
   "cell_type": "code",
   "execution_count": 79,
   "id": "fc48a917-cd6e-4133-b666-a6c1556f51ed",
   "metadata": {},
   "outputs": [],
   "source": [
    "#df=n-1 (degree of fredom)\n",
    "P_u=150\n",
    "S_x=148\n",
    "n=25\n",
    "S_std=5\n",
    "ap=0.05\n",
    "df=n-1"
   ]
  },
  {
   "cell_type": "code",
   "execution_count": 80,
   "id": "fbe65f24-b269-46d0-ad7a-daf35d48dfda",
   "metadata": {},
   "outputs": [
    {
     "data": {
      "text/plain": [
       "-2.0"
      ]
     },
     "execution_count": 80,
     "metadata": {},
     "output_type": "execute_result"
    }
   ],
   "source": [
    "t_cal=(S_x-P_u)/(S_std/np.sqrt(n))\n",
    "t_cal"
   ]
  },
  {
   "cell_type": "code",
   "execution_count": 81,
   "id": "52294661-e027-47dc-bcdf-f25c396a89f7",
   "metadata": {},
   "outputs": [
    {
     "data": {
      "text/plain": [
       "-1.7108820799094282"
      ]
     },
     "execution_count": 81,
     "metadata": {},
     "output_type": "execute_result"
    }
   ],
   "source": [
    "# For one tailed\n",
    "t_tabel=st.t.ppf(ap,df)\n",
    "t_tabel"
   ]
  },
  {
   "cell_type": "code",
   "execution_count": 82,
   "id": "5530c1a8-065a-4616-b246-3a9d04e38a66",
   "metadata": {},
   "outputs": [
    {
     "name": "stdout",
     "output_type": "stream",
     "text": [
      "Ha is right\n"
     ]
    }
   ],
   "source": [
    "if t_tabel>t_cal:\n",
    "    print(\"Ha is right\")\n",
    "else :\n",
    "    print(\"Ho is right\")"
   ]
  },
  {
   "cell_type": "markdown",
   "id": "a216bc1e-53c4-45d2-9962-0100f1d1aaee",
   "metadata": {},
   "source": [
    "## Example 2\n",
    "### A company wants to test whether there is a difference in productivity between two teams. They randomly select 20 employees from each team and record their productivity scores.The mean productivity score for Team A is 80 with a standard deviation of 5.The mean productivity score for Team B is 75 with a standard deviation of 6.\n",
    "### Using a 5% level of significance, test whether there is a significant difference in productivity between the two teams."
   ]
  },
  {
   "cell_type": "code",
   "execution_count": 84,
   "id": "abb036d5-fac0-4199-8c86-f9a594398dc9",
   "metadata": {},
   "outputs": [],
   "source": [
    "a_x=80\n",
    "b_x=75\n",
    "a_std=5\n",
    "b_std=6\n",
    "ap=0.025\n",
    "n_a=20\n",
    "n_b=20\n",
    "df=n+n-2"
   ]
  },
  {
   "cell_type": "code",
   "execution_count": 85,
   "id": "0200b573-3b4e-454a-b714-a38aa4d34ed9",
   "metadata": {},
   "outputs": [
    {
     "data": {
      "text/plain": [
       "2.862991671569341"
      ]
     },
     "execution_count": 85,
     "metadata": {},
     "output_type": "execute_result"
    }
   ],
   "source": [
    "t_cal=(a_x-b_x)/(np.sqrt(((a_std**2)/n_a)+((b_std**2)/n_b)))\n",
    "t_cal"
   ]
  },
  {
   "cell_type": "code",
   "execution_count": 86,
   "id": "7cb7dbe6-3785-4175-b0ca-9d11223c84f0",
   "metadata": {},
   "outputs": [
    {
     "data": {
      "text/plain": [
       "2.010634757624232"
      ]
     },
     "execution_count": 86,
     "metadata": {},
     "output_type": "execute_result"
    }
   ],
   "source": [
    "# for two tailed\n",
    "t_table=st.t.ppf(1-ap,df)\n",
    "t_table"
   ]
  },
  {
   "cell_type": "code",
   "execution_count": 87,
   "id": "f262263a-54c1-42b9-b256-be516eccc088",
   "metadata": {},
   "outputs": [
    {
     "name": "stdout",
     "output_type": "stream",
     "text": [
      "Ha is right\n"
     ]
    }
   ],
   "source": [
    "if t_cal>t_table:\n",
    "    print(\"Ha is right\")\n",
    "else :\n",
    "    print(\"Ho is right\")"
   ]
  },
  {
   "cell_type": "markdown",
   "id": "78ea9c9a-ab5e-444c-b9fa-ed0cb46968bb",
   "metadata": {},
   "source": [
    "# Example 3\n",
    "## A company wants to test whether a new training program improves the typing speed of its employees. The typing speed (in words per minute) of 20 employees was recorded before and after undergoing the training program. The data is given below:"
   ]
  },
  {
   "cell_type": "code",
   "execution_count": 146,
   "id": "780bbcc1-be27-4b67-be33-b44ee55057a9",
   "metadata": {},
   "outputs": [],
   "source": [
    "before =np.array([50, 60, 45, 65, 55, 70, 40, 75, 80, 65, 70, 60, 50, 55, 45, 75, 60, 50, 65, 70])\n",
    "after =np.array([60, 70, 55, 75, 65, 80, 50, 85, 90, 70, 75, 65, 55, 60, 50, 80, 65, 55, 70, 75])"
   ]
  },
  {
   "cell_type": "code",
   "execution_count": 156,
   "id": "068d0e36-b2fb-49f7-a03d-7aba9a918235",
   "metadata": {},
   "outputs": [],
   "source": [
    "bf_x=np.mean(before)\n",
    "af_x=np.mean(after)\n",
    "bf_std=np.std(before)\n",
    "af_std=np.std(after)\n",
    "ap=0.025\n",
    "n=20\n",
    "df=n-1"
   ]
  },
  {
   "cell_type": "code",
   "execution_count": 152,
   "id": "3bb51615-ee2e-4a4f-a1c7-e3e13bdc089b",
   "metadata": {},
   "outputs": [
    {
     "data": {
      "text/plain": [
       "2.093024054408263"
      ]
     },
     "execution_count": 152,
     "metadata": {},
     "output_type": "execute_result"
    }
   ],
   "source": [
    "t_table=st.t.ppf(1-ap,df)\n",
    "t_table"
   ]
  },
  {
   "cell_type": "code",
   "execution_count": 174,
   "id": "7d82b491-156c-4a2e-a996-1c347daf7694",
   "metadata": {},
   "outputs": [
    {
     "data": {
      "text/plain": [
       "2.061200527128206"
      ]
     },
     "execution_count": 174,
     "metadata": {},
     "output_type": "execute_result"
    }
   ],
   "source": [
    "t_cal=(af_x-bf_x)/(np.sqrt(((af_std**2)/n)+((bf_std**2)/n)))\n",
    "t_cal"
   ]
  },
  {
   "cell_type": "code",
   "execution_count": 176,
   "id": "c01d339e-9db9-4dbc-b102-6188a21d7705",
   "metadata": {},
   "outputs": [
    {
     "name": "stdout",
     "output_type": "stream",
     "text": [
      "No Diffrence found in Befor And After improving the typing speed training\n"
     ]
    }
   ],
   "source": [
    "print(\"No Diffrence found in Befor And After improving the typing speed training\")"
   ]
  },
  {
   "cell_type": "markdown",
   "id": "3087eed9-e2df-4300-8db9-9d115904689d",
   "metadata": {},
   "source": [
    "# Chi Square Test"
   ]
  },
  {
   "cell_type": "markdown",
   "id": "c714b359-6421-47e5-b81d-32f875ad386a",
   "metadata": {},
   "source": [
    "## Example 1\n",
    "### A fair die is rolled 120 times, and the following outcomes are recorded:\n",
    "\n",
    "### Face 1: 22 times\n",
    "\n",
    "### Face 2: 17 times\n",
    "\n",
    "### Face 3: 20 times\n",
    "\n",
    "### Face 4: 26 times\n",
    "\n",
    "### Face 5: 22 times\n",
    "\n",
    "### Face 6: 13 times\n",
    "\n",
    "### Assuming a fair die should have equal probability for all six faces, test at the 5% level of significance whether the die is fair."
   ]
  },
  {
   "cell_type": "code",
   "execution_count": 210,
   "id": "583ed187-52f5-4f2d-8f20-a9a652aa321a",
   "metadata": {},
   "outputs": [],
   "source": [
    "#Ho die is fair\n",
    "# Ha die is nopt fair\n",
    "ob=np.array([22,17,20,26,22,13])\n",
    "ex=np.array([20,20,20,20,20,20])\n",
    "n=6\n",
    "df=n-1\n",
    "chi_table=11.07\n"
   ]
  },
  {
   "cell_type": "code",
   "execution_count": 203,
   "id": "aeb7c2b9-f805-48cf-a3ef-f9471985670f",
   "metadata": {},
   "outputs": [
    {
     "name": "stdout",
     "output_type": "stream",
     "text": [
      "Die is fair\n"
     ]
    }
   ],
   "source": [
    "chi_sqr=np.sum(np.square(ob-ex)/ex)\n",
    "if chi_sqr>chi_table:\n",
    "    print(\"Die is not fair\")\n",
    "else:\n",
    "    print(\"Die is fair\")"
   ]
  },
  {
   "cell_type": "markdown",
   "id": "1d63639e-92ea-4a22-a224-b16065869d6c",
   "metadata": {},
   "source": [
    "## Example 2\n",
    "### A study was conducted to investigate whether there is a relationship between gender and preferred genre of music. A sample of 235 people was selected, and the following data was collected:"
   ]
  },
  {
   "cell_type": "code",
   "execution_count": 236,
   "id": "d2d22f9e-e7bf-4f9e-a527-aae1b7dfd81f",
   "metadata": {},
   "outputs": [],
   "source": [
    "# ho No association\n",
    "# Ha Association\n",
    "#df=(row-1)*(col-1)\n",
    "ap=0.05\n",
    "df=(2-1)*(4-1)\n",
    "chi_table=7.815\n",
    "n=235\n",
    "row1=np.array([40,45,25,10])\n",
    "row2=np.array([35,30,20,30])"
   ]
  },
  {
   "cell_type": "code",
   "execution_count": 238,
   "id": "02f6f815-5b3f-4df4-8ffc-0435e1d1ae53",
   "metadata": {},
   "outputs": [
    {
     "data": {
      "text/plain": [
       "array([120, 115])"
      ]
     },
     "execution_count": 238,
     "metadata": {},
     "output_type": "execute_result"
    }
   ],
   "source": [
    "sum_r1=np.sum(row1)\n",
    "sum_r2=np.sum(row2)\n",
    "sum_row=np.array([sum_r1,sum_r2])\n",
    "sum_row"
   ]
  },
  {
   "cell_type": "code",
   "execution_count": 240,
   "id": "5a79694c-7040-4d93-aa48-7f1cfd329bd6",
   "metadata": {},
   "outputs": [
    {
     "data": {
      "text/plain": [
       "array([75, 75, 45, 40])"
      ]
     },
     "execution_count": 240,
     "metadata": {},
     "output_type": "execute_result"
    }
   ],
   "source": [
    "sum_cal=row1+row2\n",
    "sum_cal"
   ]
  },
  {
   "cell_type": "code",
   "execution_count": 272,
   "id": "80cdec9f-9499-40de-8485-0ddff53bbf0f",
   "metadata": {},
   "outputs": [],
   "source": [
    "exp=[]\n",
    "for j in sum_row:\n",
    "    for i in sum_cal:\n",
    "      exp.append((i*j)/n)\n",
    "    "
   ]
  },
  {
   "cell_type": "code",
   "execution_count": 276,
   "id": "0db36024-a49b-4e84-8147-cd2b4da9fde1",
   "metadata": {},
   "outputs": [
    {
     "data": {
      "text/plain": [
       "[38.297872340425535,\n",
       " 38.297872340425535,\n",
       " 22.97872340425532,\n",
       " 20.425531914893618,\n",
       " 36.702127659574465,\n",
       " 36.702127659574465,\n",
       " 22.02127659574468,\n",
       " 19.574468085106382]"
      ]
     },
     "execution_count": 276,
     "metadata": {},
     "output_type": "execute_result"
    }
   ],
   "source": [
    "exp"
   ]
  },
  {
   "cell_type": "code",
   "execution_count": 278,
   "id": "0c9a1880-17e1-48eb-8afc-9992ba300ecf",
   "metadata": {},
   "outputs": [],
   "source": [
    "obj=np.array([40,45,25,10,35,30,20,30])"
   ]
  },
  {
   "cell_type": "code",
   "execution_count": 286,
   "id": "abde3230-9582-474c-b8eb-00e1d87bf0c5",
   "metadata": {},
   "outputs": [],
   "source": [
    "chi_sqr=np.sum((np.square(obj-exp)/exp))"
   ]
  },
  {
   "cell_type": "code",
   "execution_count": 290,
   "id": "0a9b1f05-405c-4b41-9539-40b97e3b6e66",
   "metadata": {},
   "outputs": [
    {
     "name": "stdout",
     "output_type": "stream",
     "text": [
      "Association\n"
     ]
    }
   ],
   "source": [
    "if chi_sqr>chi_table:\n",
    "    print(\"Association\")\n",
    "else:\n",
    "    print(\"Not Association\")"
   ]
  },
  {
   "cell_type": "code",
   "execution_count": null,
   "id": "7145da36-a095-4599-a16d-b27e83355a13",
   "metadata": {},
   "outputs": [],
   "source": []
  }
 ],
 "metadata": {
  "kernelspec": {
   "display_name": "Python 3 (ipykernel)",
   "language": "python",
   "name": "python3"
  },
  "language_info": {
   "codemirror_mode": {
    "name": "ipython",
    "version": 3
   },
   "file_extension": ".py",
   "mimetype": "text/x-python",
   "name": "python",
   "nbconvert_exporter": "python",
   "pygments_lexer": "ipython3",
   "version": "3.12.7"
  }
 },
 "nbformat": 4,
 "nbformat_minor": 5
}
